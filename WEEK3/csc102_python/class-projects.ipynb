{
 "cells": [
  {
   "cell_type": "markdown",
   "metadata": {},
   "source": [
    "# Name: **LOVE FOLAMI**\n",
    "## Matriculation Number: 21120612460\n",
    "### Email: *love.folami@pau.edu.ng* "
   ]
  },
  {
   "cell_type": "markdown",
   "metadata": {},
   "source": [
    "# PROJECT 1\n",
    "### Pictorial Representation\n",
    "![Picture1](images/Picture1.png)\n",
    "## PSEUDOCODE for Project 1\n",
    "#### INPUT x\n",
    "#### INPUT 17\n",
    "#### SUBTRACT = x - 17\n",
    "#### PRINT absolute difference of x - 17\n",
    "#### IF x > 17\n",
    "#### PRINT double the absolute difference\n",
    "#### ELSE\n",
    "#### PRINT absolute difference of x - 17"
   ]
  },
  {
   "cell_type": "code",
   "execution_count": 2,
   "metadata": {},
   "outputs": [
    {
     "name": "stdout",
     "output_type": "stream",
     "text": [
      "Enter a given number: 11\n",
      "6\n"
     ]
    }
   ],
   "source": [
    "# Python program for project 1\n",
    "# To show double the absolute difference is a given number is greater than 17 and to show just the absolute difference if the given number is less than 17\n",
    "num =int(input(\"Enter a given number: \"))\n",
    "b = 17\n",
    "d = num-17\n",
    "if num>17:\n",
    "    print(abs(d)*2)\n",
    "else:\n",
    "    print(abs(d))"
   ]
  },
  {
   "cell_type": "markdown",
   "metadata": {},
   "source": [
    "# PROJECT 2\n",
    "## Pictorial Representation\n",
    "![Picture2](images/Picture2.png)\n",
    "## PSEUDOCODE for PROJECT 2\n",
    "#### INPUT x\n",
    "#### INPUT y\n",
    "#### INPUT z\n",
    "#### IF x = y = z\n",
    "#### SUM all the values and multiply by 3\n",
    "#### ELSE \n",
    "#### SUM all the values"
   ]
  },
  {
   "cell_type": "code",
   "execution_count": 7,
   "metadata": {},
   "outputs": [
    {
     "name": "stdout",
     "output_type": "stream",
     "text": [
      "Enter any number: 4\n",
      "Enter any number: 4\n",
      "Enter any number: 4\n",
      "36\n"
     ]
    }
   ],
   "source": [
    "# Python program for Project 2\n",
    "# To show that if 3 numbers are equal, you add them and multiply by 3 else if they are not equal just add only the numbers\n",
    "x =int(input(\"Enter any number: \"))\n",
    "y =int(input(\"Enter any number: \"))\n",
    "z =int(input(\"Enter any number: \"))\n",
    "if x == y and x == z and y==z:\n",
    "    print((x+y+z)*3)\n",
    "else:\n",
    "    print(x+y+z)"
   ]
  },
  {
   "cell_type": "markdown",
   "metadata": {},
   "source": [
    "# PROJECT 3\n",
    "## Pictorial Representation\n",
    "![Picture3](images/Picture3.png)\n",
    "## PSEUDOCODE for Project 3\n",
    "#### INPUT x\n",
    "#### INPUT y\n",
    "#### IF x = y\n",
    "#### PRINT True\n",
    "#### ELSE \n",
    "#### PRINT False\n",
    "#### IF x + y = 5\n",
    "#### PRINT True\n",
    "#### ELSE \n",
    "#### PRINT False\n",
    "#### IF x - y = 5\n",
    "#### PRINT True\n",
    "#### ELSE \n",
    "#### PRINT False"
   ]
  },
  {
   "cell_type": "code",
   "execution_count": 6,
   "metadata": {},
   "outputs": [
    {
     "name": "stdout",
     "output_type": "stream",
     "text": [
      "x: 6\n",
      "y: 5\n",
      "The sum of x and y is  11\n",
      "The difference of x and y is  1\n",
      "x is not equals to y hence false\n",
      "The sum of x and y is not equals to 5 hence false\n",
      "The difference of x and y is not equals to 5 hence false\n"
     ]
    }
   ],
   "source": [
    "# Python program for Project 3\n",
    "x = int(input(\"x: \"))\n",
    "y = int(input(\"y: \"))\n",
    "print(\"The sum of x and y is \",x+y)\n",
    "print(\"The difference of x and y is \",x-y)\n",
    "if x==y:\n",
    "    print(\"x is equals to y hence true\")\n",
    "else:\n",
    "    print(\"x is not equals to y hence false\")\n",
    "if x+y==5:\n",
    "    print(\"x + y = 5 hence true\")\n",
    "else:\n",
    "    print(\"The sum of x and y is not equals to 5 hence false\")\n",
    "if x-y==5:\n",
    "    print(\"x - y = 5 hence true\")\n",
    "else:\n",
    "    print(\"The difference of x and y is not equals to 5 hence false\")"
   ]
  },
  {
   "cell_type": "markdown",
   "metadata": {},
   "source": [
    "# PROJECT 4\n",
    "## Pictorial Representation\n",
    "![Picture4](images/Picture4.png)\n",
    "## PSEUDOCODE for Project 4\n",
    "#### INPUT x\n",
    "#### INPUT y\n",
    "#### INPUT z\n",
    "#### FIND the maximum of x, y, z using max() function. \n",
    "#### FIND minimum of x, y, z using min() function. \n",
    "#### ADD the max and min from above steps and subtract the sum from (a+b+c). It gives us middle element."
   ]
  },
  {
   "cell_type": "code",
   "execution_count": 2,
   "metadata": {},
   "outputs": [
    {
     "name": "stdout",
     "output_type": "stream",
     "text": [
      "Input first number: 6\n",
      "Input second number: 7\n",
      "Input third number: 2\n",
      "Numbers in sorted order:  2 6 7\n"
     ]
    }
   ],
   "source": [
    "# Python program for Project 4\n",
    "# To sort integers from minimum to maximum\n",
    "x = int(input(\"Input first number: \"))\n",
    "y = int(input(\"Input second number: \"))\n",
    "z = int(input(\"Input third number: \"))\n",
    "\n",
    "a1 = min(x, y, z)\n",
    "a3 = max(x, y, z)\n",
    "a2 = (x + y + z) - (a1 + a3)\n",
    "print(\"Numbers in sorted order: \", a1, a2, a3)"
   ]
  },
  {
   "cell_type": "markdown",
   "metadata": {},
   "source": [
    "# PROJECT 5\n",
    "## Pictorial Representation\n",
    "![Picture5](images/Picture5.png)\n",
    "## PSEUDOCODE for Project 5\n",
    "### INPUT positive integer p\n",
    "#### PROCESS v = p * p * ( p * p - 2 * p + 1 ) / 4 \n",
    "#### PRINT These are the sum of cubes smaller than the specified number "
   ]
  },
  {
   "cell_type": "code",
   "execution_count": 14,
   "metadata": {},
   "outputs": [
    {
     "name": "stdout",
     "output_type": "stream",
     "text": [
      "Input a number: 6\n",
      "Sum of cubes smaller than the specified number:  225.0\n"
     ]
    }
   ],
   "source": [
    "# Python program for Project 5\n",
    "# To take a positive integer and and returns the sum of the cube of all the positive integers smaller than the specified number\n",
    "def sum_of_cubes(v):\n",
    "    if p < 0:\n",
    "        raise ValueError('p must be positive number!')\n",
    "    return p*p*(p*p-2*p+1)/4\n",
    "p=int(input(\"Input a number: \"))\n",
    "v=p*p*(p*p-2*p+1)/4\n",
    "print(\"Sum of cubes smaller than the specified number: \",sum_of_cubes(v))\n"
   ]
  },
  {
   "cell_type": "code",
   "execution_count": null,
   "metadata": {},
   "outputs": [],
   "source": []
  },
  {
   "cell_type": "code",
   "execution_count": null,
   "metadata": {},
   "outputs": [],
   "source": []
  }
 ],
 "metadata": {
  "kernelspec": {
   "display_name": "Python 3",
   "language": "python",
   "name": "python3"
  },
  "language_info": {
   "codemirror_mode": {
    "name": "ipython",
    "version": 3
   },
   "file_extension": ".py",
   "mimetype": "text/x-python",
   "name": "python",
   "nbconvert_exporter": "python",
   "pygments_lexer": "ipython3",
   "version": "3.8.3"
  }
 },
 "nbformat": 4,
 "nbformat_minor": 4
}
