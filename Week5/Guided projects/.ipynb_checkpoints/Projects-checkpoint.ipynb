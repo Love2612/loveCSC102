{
 "cells": [
  {
   "cell_type": "code",
   "execution_count": 2,
   "metadata": {},
   "outputs": [
    {
     "name": "stdout",
     "output_type": "stream",
     "text": [
      "Enter a forbidden letter: i\n",
      "Enter a word: ink\n",
      "There is a forbidden letter in this word.\n",
      "Enter a forbidden letter: g\n",
      "Enter a word: get\n",
      "There is a forbidden letter in this word.\n",
      "Enter a forbidden letter: y\n",
      "Enter a word: our\n",
      "There is no forbidden letter in this word.\n",
      "Enter a forbidden letter: t\n",
      "Enter a word: tad\n",
      "There is a forbidden letter in this word.\n",
      "Enter a forbidden letter: w\n",
      "Enter a word: ask\n",
      "There is no forbidden letter in this word.\n",
      "The total number of words that do not contain forbidded words:  2\n"
     ]
    }
   ],
   "source": [
    "#PROJECT1\n",
    "def avoids():\n",
    "    count = 0\n",
    "   \n",
    "    f = input(\"Enter a forbidden letter: \")\n",
    "    a = input(\"Enter a word: \")\n",
    "    if f not in a:\n",
    "        z = count + 1\n",
    "        print(\"There is no forbidden letter in this word.\")\n",
    "    else:\n",
    "        z = 0\n",
    "        print(\"There is a forbidden letter in this word.\")\n",
    "    j = input(\"Enter a forbidden letter: \")\n",
    "    b = input(\"Enter a word: \")\n",
    "    if j not in b:\n",
    "        x = count + 1\n",
    "        print(\"There is no forbidden letter in this word.\")\n",
    "    else:\n",
    "        x = 0\n",
    "        print(\"There is a forbidden letter in this word.\")\n",
    "    k = input(\"Enter a forbidden letter: \")\n",
    "    c = input(\"Enter a word: \")\n",
    "    if k not in c:\n",
    "        v = count + 1\n",
    "        print(\"There is no forbidden letter in this word.\")\n",
    "    else:\n",
    "        v = 0\n",
    "        print(\"There is a forbidden letter in this word.\")\n",
    "    l = input(\"Enter a forbidden letter: \")\n",
    "    d = input(\"Enter a word: \")\n",
    "    if l not in d:\n",
    "        n = count + 1\n",
    "        print(\"There is no forbidden letter in this word.\")\n",
    "    else:\n",
    "        n = 0\n",
    "        print(\"There is a forbidden letter in this word.\")\n",
    "    m = input(\"Enter a forbidden letter: \")\n",
    "    e = input(\"Enter a word: \")\n",
    "    if m not in e:\n",
    "        q = count + 1\n",
    "        print(\"There is no forbidden letter in this word.\")\n",
    "    else:\n",
    "        q = 0\n",
    "        print(\"There is a forbidden letter in this word.\")\n",
    "\n",
    "    p = z + x + v + n + q  \n",
    "    print(\"The total number of words that do not contain forbidded words: \",p)\n",
    "avoids()"
   ]
  },
  {
   "cell_type": "code",
   "execution_count": 13,
   "metadata": {},
   "outputs": [
    {
     "name": "stdout",
     "output_type": "stream",
     "text": [
      "Enter the required letters: aeiouy\n",
      "Enter a word: red\n",
      "False\n",
      "The red does not contain the required letters ['a', 'i', 'o', 'u', 'y']\n"
     ]
    }
   ],
   "source": [
    "#PROJECT2\n",
    "def uses_all():\n",
    "    string= [\"a\",\"e\",\"i\",\"o\",\"u\",\"y\"]\n",
    "    s=list(input(\"Enter the required letters: \"))\n",
    "    word=input(\"Enter a word: \")\n",
    "    k=[]\n",
    "    for g in s:\n",
    "        if g in word:\n",
    "            continue\n",
    "        else:\n",
    "            k.append(g)\n",
    "    if len(k)>0:\n",
    "        print(False)\n",
    "        print(\"The\",word,\"does not contain the required letters\",k)\n",
    "    else:\n",
    "        print(True)\n",
    "    f=True\n",
    "    for j in string:\n",
    "        if j in word:\n",
    "            continue\n",
    "        else:\n",
    "            f=False\n",
    "    if f:\n",
    "        print(\"The word contains all required letters.\")\n",
    "    \n",
    "uses_all()"
   ]
  },
  {
   "cell_type": "code",
   "execution_count": 15,
   "metadata": {},
   "outputs": [
    {
     "name": "stdout",
     "output_type": "stream",
     "text": [
      "Pick a number Jane : 43\n",
      "Pick a number Jack: 42\n",
      "Is your number EVEN or ODD Jane? ODD\n",
      "Is your number EVEN or ODD Jack? EVEN\n",
      "Jane wins.\n"
     ]
    }
   ],
   "source": [
    "#PROJECT3\n",
    "Jane=int(input(\"Pick a number Jane : \"))\n",
    "Jack=int(input(\"Pick a number Jack: \"))\n",
    "jg=input(\"Is your number EVEN or ODD Jane? \")\n",
    "jag=input(\"Is your number EVEN or ODD Jack? \")\n",
    "Tot=0\n",
    "if (Jack+Jane)%2==0:\n",
    "    Tot=1\n",
    "else:\n",
    "    Tot=2\n",
    "if Tot==1:\n",
    "    if jg==\"EVEN\":\n",
    "        print(\"Jane wins.\")\n",
    "    elif jag==\"EVEN\":\n",
    "        print(\"Jack wins.\")\n",
    "    elif jg==jag==\"EVEN\":\n",
    "        print(\"Both Jack and Jane wins.\")\n",
    "    else:\n",
    "        print(\"Both players lose.\")\n",
    "        \n",
    "elif Tot==2:\n",
    "    if jg==\"ODD\":\n",
    "        print(\"Jane wins.\")\n",
    "    elif jag==\"ODD\":\n",
    "        print(\"Jack wins.\")\n",
    "    elif jg==jag==\"ODD\":\n",
    "        print(\"Both Jack and Jane wins.\")\n",
    "    else:\n",
    "        print(\"Both players lose.\")"
   ]
  },
  {
   "cell_type": "code",
   "execution_count": 16,
   "metadata": {},
   "outputs": [
    {
     "name": "stdout",
     "output_type": "stream",
     "text": [
      "The speed of the car is  25.0\n"
     ]
    }
   ],
   "source": [
    "#PROJECT4\n",
    "D=50\n",
    "T=2\n",
    "speed=(D/T)\n",
    "print(\"The speed of the car is \",speed)"
   ]
  },
  {
   "cell_type": "code",
   "execution_count": null,
   "metadata": {},
   "outputs": [],
   "source": []
  }
 ],
 "metadata": {
  "kernelspec": {
   "display_name": "Python 3",
   "language": "python",
   "name": "python3"
  },
  "language_info": {
   "codemirror_mode": {
    "name": "ipython",
    "version": 3
   },
   "file_extension": ".py",
   "mimetype": "text/x-python",
   "name": "python",
   "nbconvert_exporter": "python",
   "pygments_lexer": "ipython3",
   "version": "3.8.3"
  }
 },
 "nbformat": 4,
 "nbformat_minor": 4
}
