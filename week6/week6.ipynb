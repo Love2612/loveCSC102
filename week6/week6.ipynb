{
 "cells": [
  {
   "cell_type": "code",
   "execution_count": 4,
   "metadata": {},
   "outputs": [
    {
     "name": "stdout",
     "output_type": "stream",
     "text": [
      "    NAMES  AGE  HEIGHT  SCORE\n",
      "  CHARLES   15     5.7     85\n",
      "     JUDE   16     5.9     74\n",
      "    JAMES   16     5.8     87\n",
      "   KELVIN   17     6.1     75\n",
      "  PROSPER   14     5.9     68\n",
      "      NAMES  AGE  HEIGHT  SCORE\n",
      "       ANNE   14     5.5     80\n",
      "       JANE   16     6.0     85\n",
      "       JOAN   14     5.4     70\n",
      "      CLARE   17     5.9     60\n",
      "  ELIZABETH   16     5.6     76\n",
      "YES!\n"
     ]
    }
   ],
   "source": [
    "import pandas as pd\n",
    "girls={\n",
    "    \"NAMES\":[\"ANNE\",\"JANE\",\"JOAN\",\"CLARE\",\"ELIZABETH\"],\n",
    "      \"AGE\":[14,16,14,17,16],\n",
    "      \"HEIGHT\":[5.5,6,5.4,5.9,5.6],\n",
    "      \"SCORE\":[80,85,70,60,76]\n",
    "      }\n",
    "boys={\n",
    "    \"NAMES\":[\"CHARLES\",\"JUDE\",\"JAMES\",\"KELVIN\",\"PROSPER\"],\n",
    "    \"AGE\":[15,16,16,17,14],\n",
    "      \"HEIGHT\":[5.7,5.9,5.8,6.1,5.9],\n",
    "      \"SCORE\":[85,74,87,75,68]\n",
    "      }\n",
    "boysoutput=pd.DataFrame(boys,index=[\"\",\"\",\"\",\"\",\"\"])\n",
    "girlsoutput=pd.DataFrame(girls,index=[\"\",\"\",\"\",\"\",\"\"])\n",
    "print(boysoutput)\n",
    "print(girlsoutput)\n",
    "filename=\"python.xlsx\"\n",
    "fn=\"py.xlsx\"\n",
    "boysoutput.to_excel(fn)\n",
    "girlsoutput.to_excel(filename)\n",
    "print(\"YES!\")"
   ]
  },
  {
   "cell_type": "code",
   "execution_count": null,
   "metadata": {},
   "outputs": [],
   "source": []
  }
 ],
 "metadata": {
  "kernelspec": {
   "display_name": "Python 3",
   "language": "python",
   "name": "python3"
  },
  "language_info": {
   "codemirror_mode": {
    "name": "ipython",
    "version": 3
   },
   "file_extension": ".py",
   "mimetype": "text/x-python",
   "name": "python",
   "nbconvert_exporter": "python",
   "pygments_lexer": "ipython3",
   "version": "3.8.3"
  }
 },
 "nbformat": 4,
 "nbformat_minor": 4
}
